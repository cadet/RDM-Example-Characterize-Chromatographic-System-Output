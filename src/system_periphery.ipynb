version https://git-lfs.github.com/spec/v1
oid sha256:f62615bb1668713d5105b34ce959efc65a5d91a6cbb5e589e3fde9231be60591
size 817
