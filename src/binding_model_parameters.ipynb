version https://git-lfs.github.com/spec/v1
oid sha256:141b91351ba3cbc36e98823d88b3245a947bc2baa577e764530a746202b733cf
size 798539
